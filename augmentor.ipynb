{
 "cells": [
  {
   "cell_type": "code",
   "execution_count": 1,
   "metadata": {},
   "outputs": [
    {
     "name": "stdout",
     "output_type": "stream",
     "text": [
      "Requirement already satisfied: Augmentor in /Users/rohansridhar/miniforge3/envs/google/lib/python3.10/site-packages (0.2.12)\n",
      "Requirement already satisfied: Pillow>=5.2.0 in /Users/rohansridhar/miniforge3/envs/google/lib/python3.10/site-packages (from Augmentor) (10.2.0)\n",
      "Requirement already satisfied: tqdm>=4.9.0 in /Users/rohansridhar/miniforge3/envs/google/lib/python3.10/site-packages (from Augmentor) (4.66.1)\n",
      "Requirement already satisfied: numpy>=1.11.0 in /Users/rohansridhar/miniforge3/envs/google/lib/python3.10/site-packages (from Augmentor) (1.26.4)\n"
     ]
    }
   ],
   "source": [
    "!pip install Augmentor"
   ]
  },
  {
   "cell_type": "code",
   "execution_count": 2,
   "metadata": {},
   "outputs": [
    {
     "name": "stdout",
     "output_type": "stream",
     "text": [
      "Initialised with 71 image(s) found.\n",
      "Output directory set to hand/output."
     ]
    }
   ],
   "source": [
    "import Augmentor\n",
    "p=Augmentor.Pipeline(\"hand\")"
   ]
  },
  {
   "cell_type": "code",
   "execution_count": 3,
   "metadata": {},
   "outputs": [],
   "source": [
    "p.rotate(probability=0.3,max_left_rotation=10,max_right_rotation=10)\n",
    "p.rotate90(probability=0.3)\n",
    "p.rotate270(probability=0.3)"
   ]
  },
  {
   "cell_type": "code",
   "execution_count": 4,
   "metadata": {},
   "outputs": [],
   "source": [
    "p.flip_left_right(probability=0.3)\n",
    "p.flip_top_bottom(probability=0.3)"
   ]
  },
  {
   "cell_type": "code",
   "execution_count": 5,
   "metadata": {},
   "outputs": [],
   "source": [
    "p.crop_random(probability=0.1,percentage_area=0.4)\n"
   ]
  },
  {
   "cell_type": "code",
   "execution_count": 6,
   "metadata": {},
   "outputs": [],
   "source": [
    "p.resize(probability=0.1,width=100,height=100)"
   ]
  },
  {
   "cell_type": "code",
   "execution_count": 7,
   "metadata": {},
   "outputs": [],
   "source": [
    "p.random_brightness(probability=0.5,min_factor=0.4,max_factor=0.9)"
   ]
  },
  {
   "cell_type": "code",
   "execution_count": 8,
   "metadata": {},
   "outputs": [],
   "source": [
    "p.random_color(probability=0.5,min_factor=0.4,max_factor=0.9)"
   ]
  },
  {
   "cell_type": "code",
   "execution_count": 9,
   "metadata": {},
   "outputs": [
    {
     "name": "stderr",
     "output_type": "stream",
     "text": [
      "Executing Pipeline:   0%|          | 0/100 [00:00<?, ? Samples/s]"
     ]
    },
    {
     "name": "stderr",
     "output_type": "stream",
     "text": [
      "Processing <PIL.Image.Image image mode=RGB size=640x480 at 0x10AD93670>: 100%|██████████| 100/100 [00:03<00:00, 30.61 Samples/s]                   \n"
     ]
    }
   ],
   "source": [
    "p.sample(100)"
   ]
  },
  {
   "cell_type": "code",
   "execution_count": null,
   "metadata": {},
   "outputs": [],
   "source": []
  }
 ],
 "metadata": {
  "kernelspec": {
   "display_name": "cv",
   "language": "python",
   "name": "python3"
  },
  "language_info": {
   "codemirror_mode": {
    "name": "ipython",
    "version": 3
   },
   "file_extension": ".py",
   "mimetype": "text/x-python",
   "name": "python",
   "nbconvert_exporter": "python",
   "pygments_lexer": "ipython3",
   "version": "3.10.13"
  }
 },
 "nbformat": 4,
 "nbformat_minor": 2
}

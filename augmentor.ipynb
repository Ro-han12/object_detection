{
 "cells": [
  {
   "cell_type": "code",
   "execution_count": 1,
   "metadata": {},
   "outputs": [
    {
     "name": "stdout",
     "output_type": "stream",
     "text": [
      "Collecting Augmentor\n",
      "  Using cached Augmentor-0.2.12-py2.py3-none-any.whl.metadata (1.3 kB)\n",
      "Requirement already satisfied: Pillow>=5.2.0 in /Users/rohansridhar/miniforge3/envs/google/lib/python3.10/site-packages (from Augmentor) (10.2.0)\n",
      "Requirement already satisfied: tqdm>=4.9.0 in /Users/rohansridhar/miniforge3/envs/google/lib/python3.10/site-packages (from Augmentor) (4.66.1)\n",
      "Requirement already satisfied: numpy>=1.11.0 in /Users/rohansridhar/miniforge3/envs/google/lib/python3.10/site-packages (from Augmentor) (1.26.4)\n",
      "Using cached Augmentor-0.2.12-py2.py3-none-any.whl (38 kB)\n",
      "Installing collected packages: Augmentor\n",
      "Successfully installed Augmentor-0.2.12\n"
     ]
    }
   ],
   "source": [
    "!pip install Augmentor"
   ]
  },
  {
   "cell_type": "code",
   "execution_count": 2,
   "metadata": {},
   "outputs": [
    {
     "name": "stdout",
     "output_type": "stream",
     "text": [
      "Initialised with 20 image(s) found.\n",
      "Output directory set to scraped_images2/output."
     ]
    }
   ],
   "source": [
    "import Augmentor\n",
    "p=Augmentor.Pipeline(\"scraped_images2\")"
   ]
  },
  {
   "cell_type": "code",
   "execution_count": 3,
   "metadata": {},
   "outputs": [],
   "source": [
    "p.rotate(probability=0.3,max_left_rotation=10,max_right_rotation=10)\n",
    "p.rotate90(probability=0.3)\n",
    "p.rotate270(probability=0.3)"
   ]
  },
  {
   "cell_type": "code",
   "execution_count": 4,
   "metadata": {},
   "outputs": [],
   "source": [
    "p.flip_left_right(probability=0.3)\n",
    "p.flip_top_bottom(probability=0.3)"
   ]
  },
  {
   "cell_type": "code",
   "execution_count": 5,
   "metadata": {},
   "outputs": [],
   "source": [
    "p.crop_random(probability=0.1,percentage_area=0.4)\n"
   ]
  },
  {
   "cell_type": "code",
   "execution_count": 6,
   "metadata": {},
   "outputs": [],
   "source": [
    "p.resize(probability=0.1,width=100,height=100)"
   ]
  },
  {
   "cell_type": "code",
   "execution_count": 7,
   "metadata": {},
   "outputs": [],
   "source": [
    "p.random_brightness(probability=0.5,min_factor=0.4,max_factor=0.9)"
   ]
  },
  {
   "cell_type": "code",
   "execution_count": 8,
   "metadata": {},
   "outputs": [],
   "source": [
    "p.random_color(probability=0.5,min_factor=0.4,max_factor=0.9)"
   ]
  },
  {
   "cell_type": "code",
   "execution_count": 9,
   "metadata": {},
   "outputs": [
    {
     "name": "stderr",
     "output_type": "stream",
     "text": [
      "Processing <PIL.Image.Image image mode=RGB size=104x162 at 0x1077BEB90>:   0%|          | 0/100 [00:00<?, ? Samples/s]"
     ]
    },
    {
     "name": "stderr",
     "output_type": "stream",
     "text": [
      "Processing <PIL.Image.Image image mode=RGB size=104x162 at 0x1077BEB90>:   1%|          | 1/100 [00:00<00:03, 27.12 Samples/s]\n"
     ]
    },
    {
     "ename": "ValueError",
     "evalue": "image has wrong mode",
     "output_type": "error",
     "traceback": [
      "\u001b[0;31m---------------------------------------------------------------------------\u001b[0m",
      "\u001b[0;31mValueError\u001b[0m                                Traceback (most recent call last)",
      "\u001b[1;32m/Users/rohansridhar/Desktop/cv/object_detection/augmentor.ipynb Cell 9\u001b[0m line \u001b[0;36m1\n\u001b[0;32m----> <a href='vscode-notebook-cell:/Users/rohansridhar/Desktop/cv/object_detection/augmentor.ipynb#X11sZmlsZQ%3D%3D?line=0'>1</a>\u001b[0m p\u001b[39m.\u001b[39;49msample(\u001b[39m100\u001b[39;49m)\n",
      "File \u001b[0;32m~/miniforge3/envs/google/lib/python3.10/site-packages/Augmentor/Pipeline.py:364\u001b[0m, in \u001b[0;36mPipeline.sample\u001b[0;34m(self, n, multi_threaded)\u001b[0m\n\u001b[1;32m    362\u001b[0m \u001b[39mwith\u001b[39;00m tqdm(total\u001b[39m=\u001b[39m\u001b[39mlen\u001b[39m(augmentor_images), desc\u001b[39m=\u001b[39m\u001b[39m\"\u001b[39m\u001b[39mExecuting Pipeline\u001b[39m\u001b[39m\"\u001b[39m, unit\u001b[39m=\u001b[39m\u001b[39m\"\u001b[39m\u001b[39m Samples\u001b[39m\u001b[39m\"\u001b[39m) \u001b[39mas\u001b[39;00m progress_bar:\n\u001b[1;32m    363\u001b[0m     \u001b[39mwith\u001b[39;00m ThreadPoolExecutor(max_workers\u001b[39m=\u001b[39m\u001b[39mNone\u001b[39;00m) \u001b[39mas\u001b[39;00m executor:\n\u001b[0;32m--> 364\u001b[0m         \u001b[39mfor\u001b[39;00m result \u001b[39min\u001b[39;00m executor\u001b[39m.\u001b[39mmap(\u001b[39mself\u001b[39m, augmentor_images):\n\u001b[1;32m    365\u001b[0m             progress_bar\u001b[39m.\u001b[39mset_description(\u001b[39m\"\u001b[39m\u001b[39mProcessing \u001b[39m\u001b[39m%s\u001b[39;00m\u001b[39m\"\u001b[39m \u001b[39m%\u001b[39m result)\n\u001b[1;32m    366\u001b[0m             progress_bar\u001b[39m.\u001b[39mupdate(\u001b[39m1\u001b[39m)\n",
      "File \u001b[0;32m~/miniforge3/envs/google/lib/python3.10/concurrent/futures/_base.py:621\u001b[0m, in \u001b[0;36mExecutor.map.<locals>.result_iterator\u001b[0;34m()\u001b[0m\n\u001b[1;32m    618\u001b[0m \u001b[39mwhile\u001b[39;00m fs:\n\u001b[1;32m    619\u001b[0m     \u001b[39m# Careful not to keep a reference to the popped future\u001b[39;00m\n\u001b[1;32m    620\u001b[0m     \u001b[39mif\u001b[39;00m timeout \u001b[39mis\u001b[39;00m \u001b[39mNone\u001b[39;00m:\n\u001b[0;32m--> 621\u001b[0m         \u001b[39myield\u001b[39;00m _result_or_cancel(fs\u001b[39m.\u001b[39;49mpop())\n\u001b[1;32m    622\u001b[0m     \u001b[39melse\u001b[39;00m:\n\u001b[1;32m    623\u001b[0m         \u001b[39myield\u001b[39;00m _result_or_cancel(fs\u001b[39m.\u001b[39mpop(), end_time \u001b[39m-\u001b[39m time\u001b[39m.\u001b[39mmonotonic())\n",
      "File \u001b[0;32m~/miniforge3/envs/google/lib/python3.10/concurrent/futures/_base.py:319\u001b[0m, in \u001b[0;36m_result_or_cancel\u001b[0;34m(***failed resolving arguments***)\u001b[0m\n\u001b[1;32m    317\u001b[0m \u001b[39mtry\u001b[39;00m:\n\u001b[1;32m    318\u001b[0m     \u001b[39mtry\u001b[39;00m:\n\u001b[0;32m--> 319\u001b[0m         \u001b[39mreturn\u001b[39;00m fut\u001b[39m.\u001b[39;49mresult(timeout)\n\u001b[1;32m    320\u001b[0m     \u001b[39mfinally\u001b[39;00m:\n\u001b[1;32m    321\u001b[0m         fut\u001b[39m.\u001b[39mcancel()\n",
      "File \u001b[0;32m~/miniforge3/envs/google/lib/python3.10/concurrent/futures/_base.py:451\u001b[0m, in \u001b[0;36mFuture.result\u001b[0;34m(self, timeout)\u001b[0m\n\u001b[1;32m    449\u001b[0m     \u001b[39mraise\u001b[39;00m CancelledError()\n\u001b[1;32m    450\u001b[0m \u001b[39melif\u001b[39;00m \u001b[39mself\u001b[39m\u001b[39m.\u001b[39m_state \u001b[39m==\u001b[39m FINISHED:\n\u001b[0;32m--> 451\u001b[0m     \u001b[39mreturn\u001b[39;00m \u001b[39mself\u001b[39;49m\u001b[39m.\u001b[39;49m__get_result()\n\u001b[1;32m    453\u001b[0m \u001b[39mself\u001b[39m\u001b[39m.\u001b[39m_condition\u001b[39m.\u001b[39mwait(timeout)\n\u001b[1;32m    455\u001b[0m \u001b[39mif\u001b[39;00m \u001b[39mself\u001b[39m\u001b[39m.\u001b[39m_state \u001b[39min\u001b[39;00m [CANCELLED, CANCELLED_AND_NOTIFIED]:\n",
      "File \u001b[0;32m~/miniforge3/envs/google/lib/python3.10/concurrent/futures/_base.py:403\u001b[0m, in \u001b[0;36mFuture.__get_result\u001b[0;34m(self)\u001b[0m\n\u001b[1;32m    401\u001b[0m \u001b[39mif\u001b[39;00m \u001b[39mself\u001b[39m\u001b[39m.\u001b[39m_exception:\n\u001b[1;32m    402\u001b[0m     \u001b[39mtry\u001b[39;00m:\n\u001b[0;32m--> 403\u001b[0m         \u001b[39mraise\u001b[39;00m \u001b[39mself\u001b[39m\u001b[39m.\u001b[39m_exception\n\u001b[1;32m    404\u001b[0m     \u001b[39mfinally\u001b[39;00m:\n\u001b[1;32m    405\u001b[0m         \u001b[39m# Break a reference cycle with the exception in self._exception\u001b[39;00m\n\u001b[1;32m    406\u001b[0m         \u001b[39mself\u001b[39m \u001b[39m=\u001b[39m \u001b[39mNone\u001b[39;00m\n",
      "File \u001b[0;32m~/miniforge3/envs/google/lib/python3.10/concurrent/futures/thread.py:58\u001b[0m, in \u001b[0;36m_WorkItem.run\u001b[0;34m(self)\u001b[0m\n\u001b[1;32m     55\u001b[0m     \u001b[39mreturn\u001b[39;00m\n\u001b[1;32m     57\u001b[0m \u001b[39mtry\u001b[39;00m:\n\u001b[0;32m---> 58\u001b[0m     result \u001b[39m=\u001b[39m \u001b[39mself\u001b[39;49m\u001b[39m.\u001b[39;49mfn(\u001b[39m*\u001b[39;49m\u001b[39mself\u001b[39;49m\u001b[39m.\u001b[39;49margs, \u001b[39m*\u001b[39;49m\u001b[39m*\u001b[39;49m\u001b[39mself\u001b[39;49m\u001b[39m.\u001b[39;49mkwargs)\n\u001b[1;32m     59\u001b[0m \u001b[39mexcept\u001b[39;00m \u001b[39mBaseException\u001b[39;00m \u001b[39mas\u001b[39;00m exc:\n\u001b[1;32m     60\u001b[0m     \u001b[39mself\u001b[39m\u001b[39m.\u001b[39mfuture\u001b[39m.\u001b[39mset_exception(exc)\n",
      "File \u001b[0;32m~/miniforge3/envs/google/lib/python3.10/site-packages/Augmentor/Pipeline.py:105\u001b[0m, in \u001b[0;36mPipeline.__call__\u001b[0;34m(self, augmentor_image)\u001b[0m\n\u001b[1;32m     92\u001b[0m \u001b[39mdef\u001b[39;00m \u001b[39m__call__\u001b[39m(\u001b[39mself\u001b[39m, augmentor_image):\n\u001b[1;32m     93\u001b[0m \u001b[39m    \u001b[39m\u001b[39m\"\"\"\u001b[39;00m\n\u001b[1;32m     94\u001b[0m \u001b[39m    Function used by the ThreadPoolExecutor to process the pipeline\u001b[39;00m\n\u001b[1;32m     95\u001b[0m \u001b[39m    using multiple threads. Do not call directly.\u001b[39;00m\n\u001b[0;32m   (...)\u001b[0m\n\u001b[1;32m    103\u001b[0m \u001b[39m    :return: None\u001b[39;00m\n\u001b[1;32m    104\u001b[0m \u001b[39m    \"\"\"\u001b[39;00m\n\u001b[0;32m--> 105\u001b[0m     \u001b[39mreturn\u001b[39;00m \u001b[39mself\u001b[39;49m\u001b[39m.\u001b[39;49m_execute(augmentor_image)\n",
      "File \u001b[0;32m~/miniforge3/envs/google/lib/python3.10/site-packages/Augmentor/Pipeline.py:233\u001b[0m, in \u001b[0;36mPipeline._execute\u001b[0;34m(self, augmentor_image, save_to_disk, multi_threaded)\u001b[0m\n\u001b[1;32m    231\u001b[0m     r \u001b[39m=\u001b[39m \u001b[39mround\u001b[39m(random\u001b[39m.\u001b[39muniform(\u001b[39m0\u001b[39m, \u001b[39m1\u001b[39m), \u001b[39m1\u001b[39m)\n\u001b[1;32m    232\u001b[0m     \u001b[39mif\u001b[39;00m r \u001b[39m<\u001b[39m\u001b[39m=\u001b[39m operation\u001b[39m.\u001b[39mprobability:\n\u001b[0;32m--> 233\u001b[0m         images \u001b[39m=\u001b[39m operation\u001b[39m.\u001b[39;49mperform_operation(images)\n\u001b[1;32m    235\u001b[0m \u001b[39m# TEMP FOR TESTING\u001b[39;00m\n\u001b[1;32m    236\u001b[0m \u001b[39m# save_to_disk = False\u001b[39;00m\n\u001b[1;32m    238\u001b[0m \u001b[39mif\u001b[39;00m save_to_disk:\n",
      "File \u001b[0;32m~/miniforge3/envs/google/lib/python3.10/site-packages/Augmentor/Operations.py:366\u001b[0m, in \u001b[0;36mRandomColor.perform_operation\u001b[0;34m(self, images)\u001b[0m\n\u001b[1;32m    363\u001b[0m augmented_images \u001b[39m=\u001b[39m []\n\u001b[1;32m    365\u001b[0m \u001b[39mfor\u001b[39;00m image \u001b[39min\u001b[39;00m images:\n\u001b[0;32m--> 366\u001b[0m     augmented_images\u001b[39m.\u001b[39mappend(do(image))\n\u001b[1;32m    368\u001b[0m \u001b[39mreturn\u001b[39;00m augmented_images\n",
      "File \u001b[0;32m~/miniforge3/envs/google/lib/python3.10/site-packages/Augmentor/Operations.py:361\u001b[0m, in \u001b[0;36mRandomColor.perform_operation.<locals>.do\u001b[0;34m(image)\u001b[0m\n\u001b[1;32m    358\u001b[0m \u001b[39mdef\u001b[39;00m \u001b[39mdo\u001b[39m(image):\n\u001b[1;32m    360\u001b[0m     image_enhancer_color \u001b[39m=\u001b[39m ImageEnhance\u001b[39m.\u001b[39mColor(image)\n\u001b[0;32m--> 361\u001b[0m     \u001b[39mreturn\u001b[39;00m image_enhancer_color\u001b[39m.\u001b[39;49menhance(factor)\n",
      "File \u001b[0;32m~/miniforge3/envs/google/lib/python3.10/site-packages/PIL/ImageEnhance.py:37\u001b[0m, in \u001b[0;36m_Enhance.enhance\u001b[0;34m(self, factor)\u001b[0m\n\u001b[1;32m     26\u001b[0m \u001b[39mdef\u001b[39;00m \u001b[39menhance\u001b[39m(\u001b[39mself\u001b[39m, factor):\n\u001b[1;32m     27\u001b[0m \u001b[39m    \u001b[39m\u001b[39m\"\"\"\u001b[39;00m\n\u001b[1;32m     28\u001b[0m \u001b[39m    Returns an enhanced image.\u001b[39;00m\n\u001b[1;32m     29\u001b[0m \n\u001b[0;32m   (...)\u001b[0m\n\u001b[1;32m     35\u001b[0m \u001b[39m    :rtype: :py:class:`~PIL.Image.Image`\u001b[39;00m\n\u001b[1;32m     36\u001b[0m \u001b[39m    \"\"\"\u001b[39;00m\n\u001b[0;32m---> 37\u001b[0m     \u001b[39mreturn\u001b[39;00m Image\u001b[39m.\u001b[39;49mblend(\u001b[39mself\u001b[39;49m\u001b[39m.\u001b[39;49mdegenerate, \u001b[39mself\u001b[39;49m\u001b[39m.\u001b[39;49mimage, factor)\n",
      "File \u001b[0;32m~/miniforge3/envs/google/lib/python3.10/site-packages/PIL/Image.py:3351\u001b[0m, in \u001b[0;36mblend\u001b[0;34m(im1, im2, alpha)\u001b[0m\n\u001b[1;32m   3349\u001b[0m im1\u001b[39m.\u001b[39mload()\n\u001b[1;32m   3350\u001b[0m im2\u001b[39m.\u001b[39mload()\n\u001b[0;32m-> 3351\u001b[0m \u001b[39mreturn\u001b[39;00m im1\u001b[39m.\u001b[39m_new(core\u001b[39m.\u001b[39;49mblend(im1\u001b[39m.\u001b[39;49mim, im2\u001b[39m.\u001b[39;49mim, alpha))\n",
      "\u001b[0;31mValueError\u001b[0m: image has wrong mode"
     ]
    }
   ],
   "source": [
    "p.sample(100)"
   ]
  },
  {
   "cell_type": "code",
   "execution_count": null,
   "metadata": {},
   "outputs": [],
   "source": []
  }
 ],
 "metadata": {
  "kernelspec": {
   "display_name": "cv",
   "language": "python",
   "name": "python3"
  },
  "language_info": {
   "codemirror_mode": {
    "name": "ipython",
    "version": 3
   },
   "file_extension": ".py",
   "mimetype": "text/x-python",
   "name": "python",
   "nbconvert_exporter": "python",
   "pygments_lexer": "ipython3",
   "version": "3.10.13"
  }
 },
 "nbformat": 4,
 "nbformat_minor": 2
}
